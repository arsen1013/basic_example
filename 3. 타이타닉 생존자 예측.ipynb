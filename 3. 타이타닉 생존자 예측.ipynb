{
  "cells": [
    {
      "cell_type": "markdown",
      "metadata": {
        "id": "6w7HauGoLB3E"
      },
      "source": [
        "### 타이타닉 생존자 예측"
      ]
    },
    {
      "cell_type": "code",
      "execution_count": 134,
      "metadata": {
        "colab": {
          "base_uri": "https://localhost:8080/"
        },
        "id": "-ZUOfIbmIfn6",
        "outputId": "3f9cbc42-b386-474f-b313-584f54e0c22e"
      },
      "outputs": [
        {
          "name": "stdout",
          "output_type": "stream",
          "text": [
            "Requirement already satisfied: sklearn in c:\\users\\jihyun\\appdata\\local\\programs\\python\\python310\\lib\\site-packages (0.0)\n",
            "Requirement already satisfied: scikit-learn in c:\\users\\jihyun\\appdata\\local\\programs\\python\\python310\\lib\\site-packages (from sklearn) (1.0.2)\n",
            "Requirement already satisfied: scipy>=1.1.0 in c:\\users\\jihyun\\appdata\\local\\programs\\python\\python310\\lib\\site-packages (from scikit-learn->sklearn) (1.8.0)\n",
            "Requirement already satisfied: numpy>=1.14.6 in c:\\users\\jihyun\\appdata\\local\\programs\\python\\python310\\lib\\site-packages (from scikit-learn->sklearn) (1.22.2)\n",
            "Requirement already satisfied: threadpoolctl>=2.0.0 in c:\\users\\jihyun\\appdata\\local\\programs\\python\\python310\\lib\\site-packages (from scikit-learn->sklearn) (3.1.0)\n",
            "Requirement already satisfied: joblib>=0.11 in c:\\users\\jihyun\\appdata\\local\\programs\\python\\python310\\lib\\site-packages (from scikit-learn->sklearn) (1.1.0)\n"
          ]
        }
      ],
      "source": [
        "!pip install sklearn"
      ]
    },
    {
      "cell_type": "markdown",
      "metadata": {},
      "source": [
        "### EDA 탐색적 데이터 분석 "
      ]
    },
    {
      "cell_type": "code",
      "execution_count": 135,
      "metadata": {
        "id": "v_VO0KWQGPxy"
      },
      "outputs": [],
      "source": [
        "import numpy as np\n",
        "import pandas as pd\n",
        "import matplotlib.pyplot as plt\n",
        "import seaborn as sns\n",
        "%matplotlib inline"
      ]
    },
    {
      "cell_type": "code",
      "execution_count": 136,
      "metadata": {
        "id": "NC9j0R2qIefd"
      },
      "outputs": [],
      "source": [
        "titanic_df = pd.read_csv('./dataset/train.csv')"
      ]
    },
    {
      "cell_type": "code",
      "execution_count": 137,
      "metadata": {
        "colab": {
          "base_uri": "https://localhost:8080/"
        },
        "id": "-cflR8YiK4GX",
        "outputId": "e09c1306-c151-4b14-863d-44e4f9c800d3"
      },
      "outputs": [
        {
          "name": "stdout",
          "output_type": "stream",
          "text": [
            "<class 'pandas.core.frame.DataFrame'>\n",
            "RangeIndex: 891 entries, 0 to 890\n",
            "Data columns (total 12 columns):\n",
            " #   Column       Non-Null Count  Dtype  \n",
            "---  ------       --------------  -----  \n",
            " 0   PassengerId  891 non-null    int64  \n",
            " 1   Survived     891 non-null    int64  \n",
            " 2   Pclass       891 non-null    int64  \n",
            " 3   Name         891 non-null    object \n",
            " 4   Sex          891 non-null    object \n",
            " 5   Age          714 non-null    float64\n",
            " 6   SibSp        891 non-null    int64  \n",
            " 7   Parch        891 non-null    int64  \n",
            " 8   Ticket       891 non-null    object \n",
            " 9   Fare         891 non-null    float64\n",
            " 10  Cabin        204 non-null    object \n",
            " 11  Embarked     889 non-null    object \n",
            "dtypes: float64(2), int64(5), object(5)\n",
            "memory usage: 83.7+ KB\n"
          ]
        }
      ],
      "source": [
        "titanic_df.info()"
      ]
    },
    {
      "cell_type": "markdown",
      "metadata": {
        "id": "QUjDKd3IMn6I"
      },
      "source": [
        "- 컬럼 내용\n",
        "\n",
        "Variable\tDefinition\tKey\n",
        "survival:\tSurvival\t0 = No, 1 = Yes\n",
        "pclass:\tTicket class\t1 = 1st, 2 = 2nd, 3 = 3rd\n",
        "sex:\tSex\t\n",
        "Age\t: Age in years\t\n",
        "sibsp : \t# of siblings / spouses aboard the Titanic\t\n",
        "parch :\t# of parents / children aboard the Titanic\t\n",
        "ticket :\tTicket number\t\n",
        "fare:\tPassenger fare\t\n",
        "cabin:\tCabin number\t\n",
        "embarked:\tPort of Embarkation\tC = Cherbourg, Q = Queenstown, S = Southampton"
      ]
    },
    {
      "cell_type": "code",
      "execution_count": 138,
      "metadata": {
        "colab": {
          "base_uri": "https://localhost:8080/",
          "height": 300
        },
        "id": "lNKMHC8BM7uh",
        "outputId": "a4db3e4c-4676-426f-adc4-30dcde19633b"
      },
      "outputs": [
        {
          "data": {
            "text/html": [
              "<div>\n",
              "<style scoped>\n",
              "    .dataframe tbody tr th:only-of-type {\n",
              "        vertical-align: middle;\n",
              "    }\n",
              "\n",
              "    .dataframe tbody tr th {\n",
              "        vertical-align: top;\n",
              "    }\n",
              "\n",
              "    .dataframe thead th {\n",
              "        text-align: right;\n",
              "    }\n",
              "</style>\n",
              "<table border=\"1\" class=\"dataframe\">\n",
              "  <thead>\n",
              "    <tr style=\"text-align: right;\">\n",
              "      <th></th>\n",
              "      <th>PassengerId</th>\n",
              "      <th>Survived</th>\n",
              "      <th>Pclass</th>\n",
              "      <th>Age</th>\n",
              "      <th>SibSp</th>\n",
              "      <th>Parch</th>\n",
              "      <th>Fare</th>\n",
              "    </tr>\n",
              "  </thead>\n",
              "  <tbody>\n",
              "    <tr>\n",
              "      <th>count</th>\n",
              "      <td>891.000000</td>\n",
              "      <td>891.000000</td>\n",
              "      <td>891.000000</td>\n",
              "      <td>714.000000</td>\n",
              "      <td>891.000000</td>\n",
              "      <td>891.000000</td>\n",
              "      <td>891.000000</td>\n",
              "    </tr>\n",
              "    <tr>\n",
              "      <th>mean</th>\n",
              "      <td>446.000000</td>\n",
              "      <td>0.383838</td>\n",
              "      <td>2.308642</td>\n",
              "      <td>29.699118</td>\n",
              "      <td>0.523008</td>\n",
              "      <td>0.381594</td>\n",
              "      <td>32.204208</td>\n",
              "    </tr>\n",
              "    <tr>\n",
              "      <th>std</th>\n",
              "      <td>257.353842</td>\n",
              "      <td>0.486592</td>\n",
              "      <td>0.836071</td>\n",
              "      <td>14.526497</td>\n",
              "      <td>1.102743</td>\n",
              "      <td>0.806057</td>\n",
              "      <td>49.693429</td>\n",
              "    </tr>\n",
              "    <tr>\n",
              "      <th>min</th>\n",
              "      <td>1.000000</td>\n",
              "      <td>0.000000</td>\n",
              "      <td>1.000000</td>\n",
              "      <td>0.420000</td>\n",
              "      <td>0.000000</td>\n",
              "      <td>0.000000</td>\n",
              "      <td>0.000000</td>\n",
              "    </tr>\n",
              "    <tr>\n",
              "      <th>25%</th>\n",
              "      <td>223.500000</td>\n",
              "      <td>0.000000</td>\n",
              "      <td>2.000000</td>\n",
              "      <td>20.125000</td>\n",
              "      <td>0.000000</td>\n",
              "      <td>0.000000</td>\n",
              "      <td>7.910400</td>\n",
              "    </tr>\n",
              "    <tr>\n",
              "      <th>50%</th>\n",
              "      <td>446.000000</td>\n",
              "      <td>0.000000</td>\n",
              "      <td>3.000000</td>\n",
              "      <td>28.000000</td>\n",
              "      <td>0.000000</td>\n",
              "      <td>0.000000</td>\n",
              "      <td>14.454200</td>\n",
              "    </tr>\n",
              "    <tr>\n",
              "      <th>75%</th>\n",
              "      <td>668.500000</td>\n",
              "      <td>1.000000</td>\n",
              "      <td>3.000000</td>\n",
              "      <td>38.000000</td>\n",
              "      <td>1.000000</td>\n",
              "      <td>0.000000</td>\n",
              "      <td>31.000000</td>\n",
              "    </tr>\n",
              "    <tr>\n",
              "      <th>max</th>\n",
              "      <td>891.000000</td>\n",
              "      <td>1.000000</td>\n",
              "      <td>3.000000</td>\n",
              "      <td>80.000000</td>\n",
              "      <td>8.000000</td>\n",
              "      <td>6.000000</td>\n",
              "      <td>512.329200</td>\n",
              "    </tr>\n",
              "  </tbody>\n",
              "</table>\n",
              "</div>"
            ],
            "text/plain": [
              "       PassengerId    Survived      Pclass         Age       SibSp  \\\n",
              "count   891.000000  891.000000  891.000000  714.000000  891.000000   \n",
              "mean    446.000000    0.383838    2.308642   29.699118    0.523008   \n",
              "std     257.353842    0.486592    0.836071   14.526497    1.102743   \n",
              "min       1.000000    0.000000    1.000000    0.420000    0.000000   \n",
              "25%     223.500000    0.000000    2.000000   20.125000    0.000000   \n",
              "50%     446.000000    0.000000    3.000000   28.000000    0.000000   \n",
              "75%     668.500000    1.000000    3.000000   38.000000    1.000000   \n",
              "max     891.000000    1.000000    3.000000   80.000000    8.000000   \n",
              "\n",
              "            Parch        Fare  \n",
              "count  891.000000  891.000000  \n",
              "mean     0.381594   32.204208  \n",
              "std      0.806057   49.693429  \n",
              "min      0.000000    0.000000  \n",
              "25%      0.000000    7.910400  \n",
              "50%      0.000000   14.454200  \n",
              "75%      0.000000   31.000000  \n",
              "max      6.000000  512.329200  "
            ]
          },
          "execution_count": 138,
          "metadata": {},
          "output_type": "execute_result"
        }
      ],
      "source": [
        "titanic_df.describe()"
      ]
    },
    {
      "cell_type": "code",
      "execution_count": 139,
      "metadata": {
        "colab": {
          "base_uri": "https://localhost:8080/"
        },
        "id": "j14zgKAPK50g",
        "outputId": "faf415fb-2edb-4737-a7e2-7c903a6785fc"
      },
      "outputs": [
        {
          "data": {
            "text/plain": [
              "PassengerId      0\n",
              "Survived         0\n",
              "Pclass           0\n",
              "Name             0\n",
              "Sex              0\n",
              "Age            177\n",
              "SibSp            0\n",
              "Parch            0\n",
              "Ticket           0\n",
              "Fare             0\n",
              "Cabin          687\n",
              "Embarked         2\n",
              "dtype: int64"
            ]
          },
          "execution_count": 139,
          "metadata": {},
          "output_type": "execute_result"
        }
      ],
      "source": [
        "titanic_df.isnull().sum()"
      ]
    },
    {
      "cell_type": "code",
      "execution_count": 140,
      "metadata": {
        "colab": {
          "base_uri": "https://localhost:8080/"
        },
        "id": "9b6f4OxzNjCR",
        "outputId": "19b0b9bd-0eca-42b9-cdb9-903ee9767ea9"
      },
      "outputs": [
        {
          "name": "stdout",
          "output_type": "stream",
          "text": [
            "null 갯수: PassengerId    0\n",
            "Survived       0\n",
            "Pclass         0\n",
            "Name           0\n",
            "Sex            0\n",
            "Age            0\n",
            "SibSp          0\n",
            "Parch          0\n",
            "Ticket         0\n",
            "Fare           0\n",
            "Cabin          0\n",
            "Embarked       0\n",
            "dtype: int64\n"
          ]
        }
      ],
      "source": [
        "titanic_df['Age'].fillna(titanic_df[\"Age\"].mean(),inplace=True)\n",
        "titanic_df[\"Cabin\"].fillna('N',inplace=True)\n",
        "titanic_df[\"Embarked\"].fillna('N',inplace=True)\n",
        "print(\"null 갯수:\", titanic_df.isnull().sum())"
      ]
    },
    {
      "cell_type": "code",
      "execution_count": 141,
      "metadata": {
        "colab": {
          "base_uri": "https://localhost:8080/"
        },
        "id": "ZnGPRib7O7h1",
        "outputId": "a749ea08-6edb-42dc-df70-576497ab8f8c"
      },
      "outputs": [
        {
          "name": "stdout",
          "output_type": "stream",
          "text": [
            "성별분포 : \n",
            " male      577\n",
            "female    314\n",
            "Name: Sex, dtype: int64\n",
            "\n",
            " 선실 분포: \n",
            " N              687\n",
            "C23 C25 C27      4\n",
            "G6               4\n",
            "B96 B98          4\n",
            "C22 C26          3\n",
            "              ... \n",
            "E34              1\n",
            "C7               1\n",
            "C54              1\n",
            "E36              1\n",
            "C148             1\n",
            "Name: Cabin, Length: 148, dtype: int64\n",
            "\n",
            " 승선지 분포: \n",
            " S    644\n",
            "C    168\n",
            "Q     77\n",
            "N      2\n",
            "Name: Embarked, dtype: int64\n"
          ]
        }
      ],
      "source": [
        "print(f\"성별분포 : \\n {titanic_df['Sex'].value_counts()}\")\n",
        "print(f\"\\n 선실 분포: \\n {titanic_df['Cabin'].value_counts()}\")\n",
        "print(f\"\\n 승선지 분포: \\n {titanic_df['Embarked'].value_counts()}\")"
      ]
    },
    {
      "cell_type": "code",
      "execution_count": 142,
      "metadata": {
        "colab": {
          "base_uri": "https://localhost:8080/"
        },
        "id": "0eQNPfHbQ9ds",
        "outputId": "5d1c2d37-f75c-483e-ec48-746ddea494ab"
      },
      "outputs": [
        {
          "name": "stdout",
          "output_type": "stream",
          "text": [
            "0    N\n",
            "1    C\n",
            "2    N\n",
            "3    C\n",
            "4    N\n",
            "Name: Carbin, dtype: object\n"
          ]
        }
      ],
      "source": [
        "titanic_df['Carbin'] = titanic_df['Cabin'].str[:1]\n",
        "print(titanic_df[\"Carbin\"].head())"
      ]
    },
    {
      "cell_type": "code",
      "execution_count": 143,
      "metadata": {
        "colab": {
          "base_uri": "https://localhost:8080/"
        },
        "id": "8qXbPSNkRPdL",
        "outputId": "dfcf0c71-3e7b-442b-a822-8eda6c646fe4"
      },
      "outputs": [
        {
          "data": {
            "text/plain": [
              "N    687\n",
              "C     59\n",
              "B     47\n",
              "D     33\n",
              "E     32\n",
              "A     15\n",
              "F     13\n",
              "G      4\n",
              "T      1\n",
              "Name: Carbin, dtype: int64"
            ]
          },
          "execution_count": 143,
          "metadata": {},
          "output_type": "execute_result"
        }
      ],
      "source": [
        "titanic_df['Carbin'].value_counts()"
      ]
    },
    {
      "cell_type": "code",
      "execution_count": 144,
      "metadata": {
        "colab": {
          "base_uri": "https://localhost:8080/"
        },
        "id": "k99bfXWkP5Y4",
        "outputId": "5f1424f8-6428-4131-cf94-fc1c66cb6e5a"
      },
      "outputs": [
        {
          "data": {
            "text/plain": [
              "Sex     Survived\n",
              "female  0            81\n",
              "        1           233\n",
              "male    0           468\n",
              "        1           109\n",
              "Name: Survived, dtype: int64"
            ]
          },
          "execution_count": 144,
          "metadata": {},
          "output_type": "execute_result"
        }
      ],
      "source": [
        "titanic_df.groupby(['Sex', 'Survived'])['Survived'].count()"
      ]
    },
    {
      "cell_type": "code",
      "execution_count": 145,
      "metadata": {
        "colab": {
          "base_uri": "https://localhost:8080/",
          "height": 297
        },
        "id": "zBubdzjVQixh",
        "outputId": "b2be47e9-db04-47a2-bb41-3ba794336039"
      },
      "outputs": [
        {
          "data": {
            "text/plain": [
              "<AxesSubplot:xlabel='Sex', ylabel='Survived'>"
            ]
          },
          "execution_count": 145,
          "metadata": {},
          "output_type": "execute_result"
        },
        {
          "data": {
            "image/png": "[encoded data removed]",
            "text/plain": [
              "<Figure size 432x288 with 1 Axes>"
            ]
          },
          "metadata": {
            "needs_background": "light"
          },
          "output_type": "display_data"
        }
      ],
      "source": [
        "sns.barplot(x='Sex', y='Survived', data=titanic_df)"
      ]
    },
    {
      "cell_type": "code",
      "execution_count": 146,
      "metadata": {
        "colab": {
          "base_uri": "https://localhost:8080/",
          "height": 559
        },
        "id": "yN37IbMdQ256",
        "outputId": "36c98624-66d7-42bf-e9b7-f1d9b55bf04d"
      },
      "outputs": [
        {
          "data": {
            "image/png": "[encoded data removed]",
            "text/plain": [
              "<Figure size 432x288 with 1 Axes>"
            ]
          },
          "metadata": {
            "needs_background": "light"
          },
          "output_type": "display_data"
        },
        {
          "data": {
            "text/plain": [
              "<AxesSubplot:xlabel='Pclass', ylabel='Survived'>"
            ]
          },
          "execution_count": 146,
          "metadata": {},
          "output_type": "execute_result"
        },
        {
          "data": {
            "image/png": "[encoded data removed]",
            "text/plain": [
              "<Figure size 432x288 with 1 Axes>"
            ]
          },
          "metadata": {
            "needs_background": "light"
          },
          "output_type": "display_data"
        }
      ],
      "source": [
        "plt.show()\n",
        "sns.barplot(x='Sex',y='Survived',data=titanic_df)\n",
        "plt.show()\n",
        "sns.barplot(x='Pclass',y='Survived',hue='Sex',data=titanic_df)"
      ]
    },
    {
      "cell_type": "markdown",
      "metadata": {
        "id": "LfqkexEkTpvI"
      },
      "source": []
    },
    {
      "cell_type": "code",
      "execution_count": 147,
      "metadata": {
        "colab": {
          "base_uri": "https://localhost:8080/",
          "height": 389
        },
        "id": "bUMxzfeVXGZZ",
        "outputId": "42896b03-832e-41b7-c44f-c7ff6bd284e3"
      },
      "outputs": [
        {
          "data": {
            "image/png": "[encoded data removed]",
            "text/plain": [
              "<Figure size 720x432 with 1 Axes>"
            ]
          },
          "metadata": {
            "needs_background": "light"
          },
          "output_type": "display_data"
        }
      ],
      "source": [
        "def get_category(age):\n",
        "  cat = \" \"\n",
        "  if age <= -1: cat = 'Unknown'\n",
        "  elif age <= 5: cat = \"Baby\"\n",
        "  elif age <= 12: cat = 'Child'\n",
        "  elif age <= 18: cat = 'Teenager'\n",
        "  elif age <= 25: cat = 'Student'\n",
        "  elif age <= 35: cat = 'Young Adult'\n",
        "  elif age <= 60: cat = 'Adult'\n",
        "  else : cat = 'Elderly' \n",
        "\n",
        "  return cat\n",
        "\n",
        "#막대그래프\n",
        "plt.figure(figsize=(10,6))\n",
        "group_names=[\"Unknown\",\"Baby\",\"Child\",\"Teenager\",\"Student\",\"Young Adult\",\"Adult\",\"Elderly\"]\n",
        "\n",
        "titanic_df['Age_cat']=titanic_df['Age'].apply(lambda x : get_category(x))\n",
        "sns.barplot(x='Age_cat', y='Survived', hue='Sex', data=titanic_df, order=group_names) #검은색 줄은 신뢰구간, 즉 오차막대다 \n",
        "titanic_df.drop('Age_cat',axis=1,inplace=True)"
      ]
    },
    {
      "cell_type": "markdown",
      "metadata": {
        "id": "p5GPMRn2TQSW"
      },
      "source": [
        "#### 인코딩 하기 "
      ]
    },
    {
      "cell_type": "code",
      "execution_count": 148,
      "metadata": {
        "colab": {
          "base_uri": "https://localhost:8080/",
          "height": 206
        },
        "id": "4VbN_csORkAF",
        "outputId": "29760c0d-f280-4327-fee8-3ed6e5be21d3"
      },
      "outputs": [
        {
          "data": {
            "text/html": [
              "<div>\n",
              "<style scoped>\n",
              "    .dataframe tbody tr th:only-of-type {\n",
              "        vertical-align: middle;\n",
              "    }\n",
              "\n",
              "    .dataframe tbody tr th {\n",
              "        vertical-align: top;\n",
              "    }\n",
              "\n",
              "    .dataframe thead th {\n",
              "        text-align: right;\n",
              "    }\n",
              "</style>\n",
              "<table border=\"1\" class=\"dataframe\">\n",
              "  <thead>\n",
              "    <tr style=\"text-align: right;\">\n",
              "      <th></th>\n",
              "      <th>PassengerId</th>\n",
              "      <th>Survived</th>\n",
              "      <th>Pclass</th>\n",
              "      <th>Name</th>\n",
              "      <th>Sex</th>\n",
              "      <th>Age</th>\n",
              "      <th>SibSp</th>\n",
              "      <th>Parch</th>\n",
              "      <th>Ticket</th>\n",
              "      <th>Fare</th>\n",
              "      <th>Cabin</th>\n",
              "      <th>Embarked</th>\n",
              "      <th>Carbin</th>\n",
              "    </tr>\n",
              "  </thead>\n",
              "  <tbody>\n",
              "    <tr>\n",
              "      <th>0</th>\n",
              "      <td>1</td>\n",
              "      <td>0</td>\n",
              "      <td>3</td>\n",
              "      <td>Braund, Mr. Owen Harris</td>\n",
              "      <td>1</td>\n",
              "      <td>22.0</td>\n",
              "      <td>1</td>\n",
              "      <td>0</td>\n",
              "      <td>A/5 21171</td>\n",
              "      <td>7.2500</td>\n",
              "      <td>146</td>\n",
              "      <td>3</td>\n",
              "      <td>N</td>\n",
              "    </tr>\n",
              "    <tr>\n",
              "      <th>1</th>\n",
              "      <td>2</td>\n",
              "      <td>1</td>\n",
              "      <td>1</td>\n",
              "      <td>Cumings, Mrs. John Bradley (Florence Briggs Th...</td>\n",
              "      <td>0</td>\n",
              "      <td>38.0</td>\n",
              "      <td>1</td>\n",
              "      <td>0</td>\n",
              "      <td>PC 17599</td>\n",
              "      <td>71.2833</td>\n",
              "      <td>81</td>\n",
              "      <td>0</td>\n",
              "      <td>C</td>\n",
              "    </tr>\n",
              "    <tr>\n",
              "      <th>2</th>\n",
              "      <td>3</td>\n",
              "      <td>1</td>\n",
              "      <td>3</td>\n",
              "      <td>Heikkinen, Miss. Laina</td>\n",
              "      <td>0</td>\n",
              "      <td>26.0</td>\n",
              "      <td>0</td>\n",
              "      <td>0</td>\n",
              "      <td>STON/O2. 3101282</td>\n",
              "      <td>7.9250</td>\n",
              "      <td>146</td>\n",
              "      <td>3</td>\n",
              "      <td>N</td>\n",
              "    </tr>\n",
              "    <tr>\n",
              "      <th>3</th>\n",
              "      <td>4</td>\n",
              "      <td>1</td>\n",
              "      <td>1</td>\n",
              "      <td>Futrelle, Mrs. Jacques Heath (Lily May Peel)</td>\n",
              "      <td>0</td>\n",
              "      <td>35.0</td>\n",
              "      <td>1</td>\n",
              "      <td>0</td>\n",
              "      <td>113803</td>\n",
              "      <td>53.1000</td>\n",
              "      <td>55</td>\n",
              "      <td>3</td>\n",
              "      <td>C</td>\n",
              "    </tr>\n",
              "    <tr>\n",
              "      <th>4</th>\n",
              "      <td>5</td>\n",
              "      <td>0</td>\n",
              "      <td>3</td>\n",
              "      <td>Allen, Mr. William Henry</td>\n",
              "      <td>1</td>\n",
              "      <td>35.0</td>\n",
              "      <td>0</td>\n",
              "      <td>0</td>\n",
              "      <td>373450</td>\n",
              "      <td>8.0500</td>\n",
              "      <td>146</td>\n",
              "      <td>3</td>\n",
              "      <td>N</td>\n",
              "    </tr>\n",
              "  </tbody>\n",
              "</table>\n",
              "</div>"
            ],
            "text/plain": [
              "   PassengerId  Survived  Pclass  \\\n",
              "0            1         0       3   \n",
              "1            2         1       1   \n",
              "2            3         1       3   \n",
              "3            4         1       1   \n",
              "4            5         0       3   \n",
              "\n",
              "                                                Name  Sex   Age  SibSp  Parch  \\\n",
              "0                            Braund, Mr. Owen Harris    1  22.0      1      0   \n",
              "1  Cumings, Mrs. John Bradley (Florence Briggs Th...    0  38.0      1      0   \n",
              "2                             Heikkinen, Miss. Laina    0  26.0      0      0   \n",
              "3       Futrelle, Mrs. Jacques Heath (Lily May Peel)    0  35.0      1      0   \n",
              "4                           Allen, Mr. William Henry    1  35.0      0      0   \n",
              "\n",
              "             Ticket     Fare  Cabin  Embarked Carbin  \n",
              "0         A/5 21171   7.2500    146         3      N  \n",
              "1          PC 17599  71.2833     81         0      C  \n",
              "2  STON/O2. 3101282   7.9250    146         3      N  \n",
              "3            113803  53.1000     55         3      C  \n",
              "4            373450   8.0500    146         3      N  "
            ]
          },
          "execution_count": 148,
          "metadata": {},
          "output_type": "execute_result"
        }
      ],
      "source": [
        "from sklearn import preprocessing \n",
        "\n",
        "def encode_features(dataDF):\n",
        "  features = ['Cabin', 'Sex', 'Embarked']\n",
        "  for feature in features:\n",
        "    le = preprocessing.LabelEncoder()\n",
        "    le = le.fit(dataDF[feature])\n",
        "    dataDF[feature] = le.transform(dataDF[feature])\n",
        "    \n",
        "  return dataDF\n",
        "\n",
        "titanic_df = encode_features(titanic_df)\n",
        "titanic_df.head()"
      ]
    },
    {
      "cell_type": "markdown",
      "metadata": {
        "id": "RJgQhQGsbhh0"
      },
      "source": []
    },
    {
      "cell_type": "markdown",
      "metadata": {
        "id": "PiuXFiUybiPT"
      },
      "source": [
        "## 예측모델 찾아보기 "
      ]
    },
    {
      "cell_type": "markdown",
      "metadata": {
        "id": "3v0I7FQ4ckJ_"
      },
      "source": [
        "### 클래스 만들기"
      ]
    },
    {
      "cell_type": "code",
      "execution_count": 149,
      "metadata": {
        "id": "vIR2wlkaUAR4"
      },
      "outputs": [],
      "source": [
        "from sklearn.preprocessing import LabelEncoder\n",
        "\n",
        "class prepro ():\n",
        "  def __init__(self): \n",
        "    self\n",
        "\n",
        "  #널처리 함수\n",
        "  def fillna(self,df):\n",
        "    df['Age'].fillna(df['Age'].mean(),inplace = True)\n",
        "    df['Carbin'].fillna('N',inplace = True)\n",
        "    df['Embarked'].fillna('N', inplace=True) \n",
        "    df['Fare']. fillna(0,inplace=True)\n",
        "\n",
        "  #머신러닝에 불필요한 속성 제거 \n",
        "  def drop_features(self,df):\n",
        "    df.drop(['Passengerld','Name','Ticket'],axis=1,inplace = True)\n",
        "    return df \n",
        "\n",
        "  #레이블 인코딩 수행 \n",
        "  def format_features(self,df):\n",
        "    df['Carbin'] = df['Carbin'].str[ :1]\n",
        "    for feature in features:\n",
        "      le = LabelEncoder()\n",
        "      le = le.fit(df[feature])\n",
        "      df[feature] = le.transform(df[feature])\n",
        "\n",
        "  #앞에서 설정한 Data Preprocessing 함수 호출 \n",
        "  def transfrom_features(self,df):\n",
        "    df = fillna(df)\n",
        "    df = drop_features(df)\n",
        "    df =format_features(df)\n",
        "    return df\n"
      ]
    },
    {
      "cell_type": "markdown",
      "metadata": {},
      "source": [
        "### 함수 만들기 (디펙토링하기)"
      ]
    },
    {
      "cell_type": "code",
      "execution_count": 150,
      "metadata": {
        "id": "2zS1vseXhZFV"
      },
      "outputs": [],
      "source": [
        "from sklearn.preprocessing import LabelEncoder\n",
        "\n",
        "\n",
        "def fillna(df):\n",
        "   df['Age'].fillna(df['Age'].mean(),inplace = True)\n",
        "   df['Cabin'].fillna('N',inplace = True)\n",
        "   df['Embarked'].fillna('N', inplace=True) \n",
        "   df['Fare']. fillna(0,inplace=True)\n",
        "   return df\n",
        "\n",
        "#머신러닝에 불필요한 속성 제거 \n",
        "def drop_features(df):\n",
        "   df.drop(['PassengerId','Name','Ticket'],axis= 1,inplace = True)\n",
        "   return df #리턴하지 않으면 오류가 난다. \n",
        "\n",
        "#레이블 인코딩 수행 \n",
        "def format_features(df):\n",
        "   df['Cabin'] = df['Cabin'].str[ :1]\n",
        "   features = ['Cabin', 'Sex','Embarked'] \n",
        "   for feature in features:\n",
        "     le = LabelEncoder()\n",
        "     le = le.fit(df[feature])\n",
        "     df[feature] = le.transform(df[feature])\n",
        "   return df #def는 리턴해주지 않으면 결과값이 출력되지 않는다.  \n",
        "     \n",
        "#앞에서 설정한 Data Preprocessing 함수 호출 \n",
        "def transform_features(df):\n",
        "   df = fillna(df)\n",
        "   df = drop_features(df)\n",
        "   df = format_features(df)\n",
        "   return df"
      ]
    },
    {
      "cell_type": "markdown",
      "metadata": {
        "id": "Ke4957CwfXrV"
      },
      "source": [
        "### desicionTreeClassifier vs RandomFroest vs Logistic 비교\n"
      ]
    },
    {
      "cell_type": "code",
      "execution_count": null,
      "metadata": {
        "colab": {
          "base_uri": "https://localhost:8080/",
          "height": 363
        },
        "id": "co5Hrqmue6Wy",
        "outputId": "5a42878b-da9c-4d4f-b20c-51ac919519ac"
      },
      "outputs": [],
      "source": [
        "y_titanic_df = titanic_df['Survived'] #레이블 값 만들어 Y값 데이터로 저장 \n",
        "x_titanic_df = titanic_df.drop(['Survived'],axis=1) #레이블값을 제외한 인풋값 저장 \n",
        "x_titanic_df = transform_features(x_titanic_df) #라벨인코딩 함수 실행\n",
        "x_titanic_df #전처리 잘 됐는지 한번 확인해주기 "
      ]
    },
    {
      "cell_type": "code",
      "execution_count": null,
      "metadata": {},
      "outputs": [
        {
          "name": "stdout",
          "output_type": "stream",
          "text": [
            "RandomForestClassifier 정확도:  0.770950\n",
            "DecisionTreeClassifier 정확도:  0.804469\n",
            "LogisticRegression 정확도:  0.821229\n"
          ]
        },
        {
          "name": "stderr",
          "output_type": "stream",
          "text": [
            "C:\\Users\\JIHYUN\\AppData\\Local\\Programs\\Python\\Python310\\lib\\site-packages\\sklearn\\linear_model\\_logistic.py:814: ConvergenceWarning: lbfgs failed to converge (status=1):\n",
            "STOP: TOTAL NO. of ITERATIONS REACHED LIMIT.\n",
            "\n",
            "Increase the number of iterations (max_iter) or scale the data as shown in:\n",
            "    https://scikit-learn.org/stable/modules/preprocessing.html\n",
            "Please also refer to the documentation for alternative solver options:\n",
            "    https://scikit-learn.org/stable/modules/linear_model.html#logistic-regression\n",
            "  n_iter_i = _check_optimize_result(\n"
          ]
        }
      ],
      "source": [
        "from sklearn.model_selection import train_test_split\n",
        "x_train,x_test,y_train,y_test = train_test_split(x_titanic_df,y_titanic_df, test_size=0.2,random_state= 42)\n",
        "\n",
        "#분석에 사용할 알고리즘 \n",
        "from sklearn.tree import DecisionTreeClassifier\n",
        "from sklearn.ensemble import RandomForestClassifier\n",
        "from sklearn.linear_model import LogisticRegression\n",
        "\n",
        "#정확도 검정에 사용할 알고리즘\n",
        "from sklearn.metrics import accuracy_score\n",
        "\n",
        "#클래스 선언 \n",
        "dt_clf = DecisionTreeClassifier(random_state=42)\n",
        "rt_clf = RandomForestClassifier(random_state=42)\n",
        "lt_clf= LogisticRegression() \n",
        "# print(x_train)\n",
        "# DecisionTreeClassifier 학습 / 예측 / 평가 \n",
        "dt_clf.fit(x_train,y_train)\n",
        "dt_pred = dt_clf.predict(x_test)\n",
        "print(f\"RandomForestClassifier 정확도: {accuracy_score(y_test,dt_pred): 4f}\")\n",
        "\n",
        "#RandomForestClassifier 학습/예측/평가 \n",
        "rt_clf.fit(x_train,y_train)\n",
        "rt_pred = rt_clf.predict(x_test)\n",
        "print(f\"DecisionTreeClassifier 정확도: {accuracy_score(y_test,rt_pred): 4f}\")\n",
        "\n",
        "#LogisticRegression 학습/예측/평가 \n",
        "lt_clf.fit(x_train,y_train)\n",
        "lt_pred = lt_clf.predict(x_test)\n",
        "print(f\"LogisticRegression 정확도: {accuracy_score(y_test,lt_pred): 4f}\")"
      ]
    },
    {
      "cell_type": "markdown",
      "metadata": {},
      "source": [
        "--------"
      ]
    },
    {
      "cell_type": "code",
      "execution_count": null,
      "metadata": {},
      "outputs": [
        {
          "data": {
            "text/plain": [
              "0      0\n",
              "1      1\n",
              "2      1\n",
              "3      1\n",
              "4      0\n",
              "      ..\n",
              "886    0\n",
              "887    1\n",
              "888    0\n",
              "889    1\n",
              "890    0\n",
              "Name: Survived, Length: 891, dtype: int64"
            ]
          },
          "execution_count": 111,
          "metadata": {},
          "output_type": "execute_result"
        }
      ],
      "source": [
        "y_titanic_df"
      ]
    },
    {
      "cell_type": "code",
      "execution_count": null,
      "metadata": {},
      "outputs": [
        {
          "name": "stdout",
          "output_type": "stream",
          "text": [
            "교차검증: 4, 정확도 :  0.831461\n",
            "평균 정확도 :  0.831461\n"
          ]
        }
      ],
      "source": [
        "from sklearn.model_selection import KFold\n",
        "\n",
        "def exec_kfold(clf, folds=5):\n",
        "    #5개의 폴드 세트를 생성, 폴드 수만큼 예측결과 저장을 위한 리스트 객체 생성\n",
        "    kfold = KFold(n_splits=folds)\n",
        "    scores=[]\n",
        "\n",
        "    #KFold 교차 검증 수행 \n",
        "    for iter_count,(train_index, test_index) in enumerate(kfold.split(x_titanic_df)):\n",
        "        x_train, x_test = x_titanic_df.values[train_index],x_titanic_df.values[test_index]\n",
        "        y_train, y_test = y_titanic_df.values[train_index],y_titanic_df.values[test_index]\n",
        "\n",
        "    #Classifier 학습/예측/정확도 계산 \n",
        "    clf.fit(x_train, y_train)\n",
        "\n",
        "    predictions = clf.predict(x_test)\n",
        "    accuracy = accuracy_score(y_test, predictions)\n",
        "    scores.append(accuracy)\n",
        "    print('교차검증: {0}, 정확도 : {1: 4f}'.format(iter_count, accuracy))\n",
        "    \n",
        "\n",
        "    #5개 fold에서의 평균 정확도 계산 \n",
        "    mean_score = np.mean(scores)\n",
        "    print(\"평균 정확도 : {0: 4f}\".format(mean_score))\n",
        "\n",
        "\n",
        "#exec_kfold 호출\n",
        "exec_kfold(dt_clf, folds=5)"
      ]
    },
    {
      "cell_type": "markdown",
      "metadata": {},
      "source": [
        "-----\n"
      ]
    },
    {
      "cell_type": "code",
      "execution_count": null,
      "metadata": {},
      "outputs": [
        {
          "name": "stdout",
          "output_type": "stream",
          "text": [
            "교차검증 0 정확도:0.7653631284916201\n",
            "교차검증 1 정확도:0.7808988764044944\n",
            "교차검증 2 정확도:0.797752808988764\n",
            "교차검증 3 정확도:0.7752808988764045\n",
            "교차검증 4 정확도:0.8258426966292135\n",
            "평균정확도 : 0.7890276818780994\n"
          ]
        }
      ],
      "source": [
        "from sklearn.model_selection import cross_val_score\n",
        "\n",
        "scores=cross_val_score(dt_clf, x_titanic_df, y_titanic_df, cv=5) #k폴드의 k처럼 분할하는 데이터셋 \n",
        "for iter_count,accuracy in enumerate(scores):\n",
        "    print(f\"교차검증 {iter_count} 정확도:{accuracy}\")\n",
        "    \n",
        "print(f\"평균정확도 : {np.mean(scores)}\")"
      ]
    },
    {
      "cell_type": "markdown",
      "metadata": {},
      "source": [
        "## 정밀도와 재현율 구하기 \n"
      ]
    },
    {
      "cell_type": "code",
      "execution_count": 160,
      "metadata": {},
      "outputs": [],
      "source": [
        "from sklearn.metrics import accuracy_score, precision_score, recall_score, confusion_matrix\n",
        "\n",
        "def get_clf_eval(y_test, pred):\n",
        "    confusion = confusion_matrix(y_test, pred)\n",
        "    accuracy = accuracy_score(y_test,pred)\n",
        "    precision = precision_score(y_test, pred)\n",
        "    recall = recall_score(y_test, pred)\n",
        "    print(\"오차행렬\", confusion)\n",
        "    print(f\"정확도: {accuracy} 정밀도 :{precision}, 재현율 : {recall} \")"
      ]
    },
    {
      "cell_type": "code",
      "execution_count": 161,
      "metadata": {},
      "outputs": [
        {
          "name": "stdout",
          "output_type": "stream",
          "text": [
            "오차행렬 [[104  14]\n",
            " [ 13  48]]\n",
            "정확도: 0.8491620111731844 정밀도 :0.7741935483870968, 재현율 : 0.7868852459016393 \n"
          ]
        },
        {
          "name": "stderr",
          "output_type": "stream",
          "text": [
            "C:\\Users\\JIHYUN\\AppData\\Local\\Programs\\Python\\Python310\\lib\\site-packages\\sklearn\\linear_model\\_logistic.py:814: ConvergenceWarning: lbfgs failed to converge (status=1):\n",
            "STOP: TOTAL NO. of ITERATIONS REACHED LIMIT.\n",
            "\n",
            "Increase the number of iterations (max_iter) or scale the data as shown in:\n",
            "    https://scikit-learn.org/stable/modules/preprocessing.html\n",
            "Please also refer to the documentation for alternative solver options:\n",
            "    https://scikit-learn.org/stable/modules/linear_model.html#logistic-regression\n",
            "  n_iter_i = _check_optimize_result(\n"
          ]
        }
      ],
      "source": [
        "\n",
        "import numpy as np\n",
        "import pandas as pd \n",
        "\n",
        "from sklearn.model_selection import train_test_split\n",
        "from sklearn.linear_model import LogisticRegression\n",
        "\n",
        "#원본 데이터를 재로딩, 데이터 가공, 학습데이터/테스트 데이터 분할\n",
        "titanic_df = pd.read_csv('./dataset/train.csv')\n",
        "y_titanic_df = titanic_df['Survived']\n",
        "x_titanic_df = titanic_df.drop('Survived', axis =1 )\n",
        "x_titanic_df = transform_features(x_titanic_df)\n",
        "\n",
        "x_train, x_test, y_train, y_test = train_test_split(x_titanic_df, y_titanic_df,test_size=0.2, random_state=11)\n",
        "\n",
        "lr_clf=LogisticRegression()\n",
        "\n",
        "lr_clf.fit(x_train,y_train)\n",
        "pred = lr_clf.predict(x_test)\n",
        "get_clf_eval(y_test, pred)"
      ]
    },
    {
      "cell_type": "markdown",
      "metadata": {},
      "source": [
        "### 분류 결정 임곗값에 따른 positive 예측 변화 "
      ]
    },
    {
      "cell_type": "code",
      "execution_count": 162,
      "metadata": {},
      "outputs": [
        {
          "name": "stdout",
          "output_type": "stream",
          "text": [
            "pred_proba()결과 shape (179, 2)\n",
            "pred_proba array에서 앞 3개만 샘플로 추출 \n",
            " : [[0.46175211 0.53824789]\n",
            " [0.87863924 0.12136076]\n",
            " [0.87717092 0.12282908]]\n",
            "두개의 class 중에서 더 큰 활률을 클래스 값으로 예측 \n",
            " [[0.46175211 0.53824789 1.        ]\n",
            " [0.87863924 0.12136076 0.        ]\n",
            " [0.87717092 0.12282908 0.        ]]\n"
          ]
        }
      ],
      "source": [
        "pred_proba = lr_clf.predict_proba(x_test)\n",
        "pred = lr_clf.predict(x_test)\n",
        "print(f\"pred_proba()결과 shape {pred_proba.shape}\")\n",
        "print(f'pred_proba array에서 앞 3개만 샘플로 추출 \\n : {pred_proba[:3]}') #앞이 0, 뒤가 1이 될 확률 \n",
        "\n",
        "#예측 확률 array와 예측 결과값 array를 concatenate 하여 예측확률과 결과값을 한눈에 확인 \n",
        "pred_proba_result = np.concatenate([pred_proba, pred.reshape(-1,1)], axis=1)\n",
        "print(f'두개의 class 중에서 더 큰 활률을 클래스 값으로 예측 \\n', pred_proba_result[:3])"
      ]
    },
    {
      "cell_type": "code",
      "execution_count": 163,
      "metadata": {},
      "outputs": [
        {
          "name": "stdout",
          "output_type": "stream",
          "text": [
            "[[0. 0. 1.]\n",
            " [1. 0. 0.]\n",
            " [0. 0. 1.]]\n"
          ]
        }
      ],
      "source": [
        "#----\n",
        "#Binarizer 활용 \n",
        "\n",
        "from sklearn.preprocessing import Binarizer\n",
        "\n",
        "x=[[1,-1,2],\n",
        "    [2,0,0],    \n",
        "    [0,1.1,1.2]]\n",
        "\n",
        "\n",
        "#threshold 기준값보다 같거나 작으면 0을, 크면 1을 변환 \n",
        "Binarizer = Binarizer(threshold=1.1)\n",
        "print(Binarizer.fit_transform(x))"
      ]
    },
    {
      "cell_type": "code",
      "execution_count": 165,
      "metadata": {},
      "outputs": [
        {
          "name": "stdout",
          "output_type": "stream",
          "text": [
            "오차행렬 [[104  14]\n",
            " [ 13  48]]\n",
            "정확도: 0.8491620111731844 정밀도 :0.7741935483870968, 재현율 : 0.7868852459016393 \n"
          ]
        }
      ],
      "source": [
        "#Binarizer 활용해서 분류 결정 임곗값에 따른 예측 확률 변화 확인하기 \n",
        "\n",
        "from sklearn.preprocessing import Binarizer\n",
        "\n",
        "#Binarizer의 threshold 설정값, 분류 결정 임곗값이다. \n",
        "custom_threshold = 0.5  \n",
        "\n",
        "# predict_proba()의 반환값의 두번째 칼럼, 즉 positive 클래스 컬럼 하나만 추출하여 Binarizer 적용하기 \n",
        "pred_proba_1 = pred_proba[:,1].reshape(-1,1)\n",
        "\n",
        "#threshold 기준값보다 같거나 작으면 0을, 크면 1을 변환 \n",
        "binarizer = Binarizer(threshold=custom_threshold).fit(pred_proba_1)\n",
        "custom_predict = binarizer.transform(pred_proba_1)\n",
        "\n",
        "get_clf_eval(y_test, custom_predict)"
      ]
    },
    {
      "cell_type": "code",
      "execution_count": 166,
      "metadata": {},
      "outputs": [
        {
          "name": "stdout",
          "output_type": "stream",
          "text": [
            "오차행렬 [[98 20]\n",
            " [10 51]]\n",
            "정확도: 0.8324022346368715 정밀도 :0.7183098591549296, 재현율 : 0.8360655737704918 \n"
          ]
        }
      ],
      "source": [
        "#설정 임곗값을 0.4로 설정하면? \n",
        "\n",
        "\n",
        "from sklearn.preprocessing import Binarizer\n",
        "\n",
        "#Binarizer의 threshold 설정값, 분류 결정 임곗값이다. \n",
        "custom_threshold = 0.4\n",
        "\n",
        "# predict_proba()의 반환값의 두번째 칼럼, 즉 positive 클래스 컬럼 하나만 추출하여 Binarizer 적용하기 \n",
        "pred_proba_1 = pred_proba[:,1].reshape(-1,1)\n",
        "\n",
        "#threshold 기준값보다 같거나 작으면 0을, 크면 1을 변환 \n",
        "binarizer = Binarizer(threshold=custom_threshold).fit(pred_proba_1)\n",
        "custom_predict = binarizer.transform(pred_proba_1)\n",
        "\n",
        "get_clf_eval(y_test, custom_predict)"
      ]
    },
    {
      "cell_type": "code",
      "execution_count": 169,
      "metadata": {},
      "outputs": [
        {
          "name": "stdout",
          "output_type": "stream",
          "text": [
            "임계값 : 0.4\n",
            "오차행렬 [[98 20]\n",
            " [10 51]]\n",
            "정확도: 0.8324022346368715 정밀도 :0.7183098591549296, 재현율 : 0.8360655737704918 \n",
            "임계값 : 0.45\n",
            "오차행렬 [[103  15]\n",
            " [ 12  49]]\n",
            "정확도: 0.8491620111731844 정밀도 :0.765625, 재현율 : 0.8032786885245902 \n",
            "임계값 : 0.5\n",
            "오차행렬 [[104  14]\n",
            " [ 13  48]]\n",
            "정확도: 0.8491620111731844 정밀도 :0.7741935483870968, 재현율 : 0.7868852459016393 \n",
            "임계값 : 0.6\n",
            "오차행렬 [[112   6]\n",
            " [ 16  45]]\n",
            "정확도: 0.8770949720670391 정밀도 :0.8823529411764706, 재현율 : 0.7377049180327869 \n"
          ]
        }
      ],
      "source": [
        "#테스트를 수행할 모든 임곗값을 리스트 객체로 저장 \n",
        "\n",
        "thresholds = [0.4, 0.45, 0.50, 0.60]\n",
        "\n",
        "def get_eval_by_threshold(y_test, pred_proba_c1, thresholds):\n",
        "    #threshols list 객체내의 값을 차례로 iteration하면서 Evauation 수행 \n",
        "    for custom_threshold in thresholds:\n",
        "        binarizer = Binarizer(threshold=custom_threshold).fit(pred_proba_c1)\n",
        "        custom_predict = binarizer.transform(pred_proba_c1)\n",
        "        print(f'임계값 : {custom_threshold}')\n",
        "        get_clf_eval(y_test, custom_predict)\n",
        "\n",
        "get_eval_by_threshold(y_test, pred_proba[:,1].reshape(-1,1), thresholds)\n"
      ]
    },
    {
      "cell_type": "markdown",
      "metadata": {},
      "source": [
        "### precision_recall_curve()를 이용하여 임곗값에 따른 정밀도 - 재현율 값 추출 "
      ]
    },
    {
      "cell_type": "code",
      "execution_count": 173,
      "metadata": {},
      "outputs": [
        {
          "name": "stdout",
          "output_type": "stream",
          "text": [
            "반환된 분류 결정 임곗값 배열의 shape: (143,)\n",
            "반환된 precisions 배열의 shape: (144,)\n",
            "반환된 recalls 배열의 shape (144,)\n",
            "thresholds 5 sample: [0.10394781 0.10395007 0.10397544 0.10773598 0.10892335]\n",
            "precisions 5 sample [0.10394781 0.10395007 0.10397544 0.10773598 0.10892335]\n",
            "recalls 5 sample [1.         0.98360656 0.98360656 0.98360656 0.96721311]\n"
          ]
        }
      ],
      "source": [
        "from sklearn.metrics import precision_recall_curve\n",
        "\n",
        "#레이블 값이 1일때의 예측 확률을 추출\n",
        "pred_proba_class1 = lr_clf.predict_proba(x_test)[:,1]\n",
        "\n",
        "#실제값 데이터 셋과 레이블 값이 1일 때의 예측 확률을 precision_recall_curve 인자로 입력 \n",
        "precisions, recalls, thresholds = precision_recall_curve(y_test, pred_proba_class1)\n",
        "print(f'반환된 분류 결정 임곗값 배열의 shape: {thresholds.shape}')\n",
        "print(f'반환된 precisions 배열의 shape:', precisions.shape)\n",
        "print(f'반환된 recalls 배열의 shape {recalls.shape}')\n",
        "\n",
        "print(f'thresholds 5 sample: {thresholds[:5]}')\n",
        "print(f'precisions 5 sample {thresholds[:5]}')\n",
        "print(f'recalls 5 sample {recalls[:5]}')\n"
      ]
    },
    {
      "cell_type": "code",
      "execution_count": 174,
      "metadata": {},
      "outputs": [
        {
          "name": "stdout",
          "output_type": "stream",
          "text": [
            "샘플 추출을 위한 임계값 배열의 index 10개 [  0  15  30  45  60  75  90 105 120 135]\n",
            "샘플용 10개의 임곗값: [0.1  0.12 0.14 0.19 0.28 0.4  0.56 0.67 0.82 0.95]\n"
          ]
        }
      ],
      "source": [
        "#반환된 임계값 배열 로우가 147건이므로 샘플로 10건만 추출하되, 임계값을 15step으로 추출 \n",
        "thr_index = np.arange(0, thresholds.shape[0], 15)\n",
        "print(f'샘플 추출을 위한 임계값 배열의 index 10개 {thr_index}')\n",
        "print(f'샘플용 10개의 임곗값: {np.round(thresholds[thr_index],2)}')\n"
      ]
    },
    {
      "cell_type": "code",
      "execution_count": 175,
      "metadata": {},
      "outputs": [
        {
          "name": "stdout",
          "output_type": "stream",
          "text": [
            "샘플 임계값별 정밀도: [0.104 0.121 0.14  0.186 0.28  0.403 0.564 0.667 0.822 0.947]\n",
            "샘플용 10개의 재현율: [1.    0.967 0.902 0.902 0.902 0.836 0.754 0.607 0.377 0.148]\n"
          ]
        }
      ],
      "source": [
        "#15 step 단위로 추출된 임계값에 따른 정밀도와 재현율 값 \n",
        "print(f'샘플 임계값별 정밀도: {np.round(thresholds[thr_index],3)}')\n",
        "print(f'샘플용 10개의 재현율: {np.round(recalls[thr_index],3)}')\n",
        "\n"
      ]
    },
    {
      "cell_type": "code",
      "execution_count": 181,
      "metadata": {},
      "outputs": [
        {
          "data": {
            "image/png": "[encoded data removed]",
            "text/plain": [
              "<Figure size 576x432 with 1 Axes>"
            ]
          },
          "metadata": {
            "needs_background": "light"
          },
          "output_type": "display_data"
        }
      ],
      "source": [
        "import matplotlib.pyplot as plt\n",
        "import matplotlib.ticker as ticker\n",
        "%matplotlib inline\n",
        "\n",
        "def precision_recall_curve_plot(y_test, pred_proba_c1):\n",
        "    #threshold ndarray와 이 threshold에 따른 정밀도, 재현율 ndrray 추출 \n",
        "    precisions, recalls, thresholds = precision_recall_curve(y_test, pred_proba_c1)\n",
        "\n",
        "    #x축을 threshold 값으로, y축은 정밀도, 재현율 값으로 각각 plot 수행, 정밀도는 점선으로 표시 \n",
        "    plt.figure(figsize= (8,6))\n",
        "    threshold_boundary = thresholds.shape[0]\n",
        "    plt.plot(thresholds, precisions[0: threshold_boundary],linestyle='--',label='precision')\n",
        "    plt.plot(thresholds, recalls[0:threshold_boundary],label='recall')\n",
        "\n",
        "    #threshold값 x축의 scale을 0,1단위로 변경 \n",
        "    start,end = plt.xlim()\n",
        "    plt.xticks(np.round(np.arange(start, end, 0.1),2))\n",
        "\n",
        "\n",
        "    #x축 , y축, label과 legend 그리고 grid 설정 \n",
        "    plt.xlabel('Threshold value'); plt.ylabel('Precision and Recall Value')\n",
        "    plt.legend(); plt.grid()\n",
        "    plt.show()\n",
        "\n",
        "precision_recall_curve_plot(y_test, lr_clf.predict_proba(x_test)[:,1])\n"
      ]
    },
    {
      "cell_type": "markdown",
      "metadata": {},
      "source": [
        "### ROC 곡선과 AUC "
      ]
    },
    {
      "cell_type": "markdown",
      "metadata": {},
      "source": [
        "### ROC 곡선 "
      ]
    },
    {
      "cell_type": "code",
      "execution_count": 182,
      "metadata": {},
      "outputs": [
        {
          "name": "stdout",
          "output_type": "stream",
          "text": [
            "F1스코어: 0.780488\n"
          ]
        }
      ],
      "source": [
        "from sklearn.metrics import f1_score\n",
        "f1 = f1_score(y_test, pred)\n",
        "print(f'F1스코어: {f1:4f}')\n"
      ]
    },
    {
      "cell_type": "code",
      "execution_count": 184,
      "metadata": {},
      "outputs": [
        {
          "name": "stdout",
          "output_type": "stream",
          "text": [
            "임계값 : 0.4\n",
            "오차행렬\n",
            "[[98 20]\n",
            " [10 51]]\n",
            "정확도 0.8324022346368715, 정밀도0.7183098591549296,재현율0.8360655737704918, f10.7727272727272727\n",
            "임계값 : 0.45\n",
            "오차행렬\n",
            "[[103  15]\n",
            " [ 12  49]]\n",
            "정확도 0.8491620111731844, 정밀도0.765625,재현율0.8032786885245902, f10.784\n",
            "임계값 : 0.5\n",
            "오차행렬\n",
            "[[104  14]\n",
            " [ 13  48]]\n",
            "정확도 0.8491620111731844, 정밀도0.7741935483870968,재현율0.7868852459016393, f10.7804878048780488\n",
            "임계값 : 0.6\n",
            "오차행렬\n",
            "[[112   6]\n",
            " [ 16  45]]\n",
            "정확도 0.8770949720670391, 정밀도0.8823529411764706,재현율0.7377049180327869, f10.8035714285714285\n"
          ]
        }
      ],
      "source": [
        "def get_clf_eval(y_test, pred):\n",
        "    confusion = confusion_matrix(y_test, pred)\n",
        "    accuracy = accuracy_score(y_test, pred)\n",
        "    precision = precision_score(y_test,pred)\n",
        "    recall = recall_score(y_test, pred)\n",
        "\n",
        "    #F1 스코어 추가 \n",
        "    f1 = f1_score(y_test,pred)\n",
        "    print(\"오차행렬\")\n",
        "    print(confusion)\n",
        "    #f1 score print 추가 \n",
        "    print(f'정확도 {accuracy}, 정밀도{precision},재현율{recall}, f1{f1}')\n",
        "\n",
        "thresholds = [0.4, 0.45, 0.50, 0.60]\n",
        "pred_proba = lr_clf.predict_proba(x_test)\n",
        "get_eval_by_threshold(y_test,pred_proba[:,1].reshape(-1,1),thresholds)"
      ]
    },
    {
      "cell_type": "markdown",
      "metadata": {},
      "source": [
        "### 사이킥런 ROC 곡선 및 AUC 스코어 "
      ]
    },
    {
      "cell_type": "code",
      "execution_count": 186,
      "metadata": {},
      "outputs": [
        {
          "name": "stdout",
          "output_type": "stream",
          "text": [
            "샘플 추출을 위한 임곗값 배열의 index:[ 1  6 11 16 21 26 31 36 41 46 51]\n",
            "샘플 index로 추출한 임곗값:[0.97 0.65 0.63 0.56 0.45 0.4  0.35 0.15 0.13 0.11 0.11]\n",
            "샘플 임계값별 FPR:[0.    0.017 0.034 0.076 0.127 0.169 0.203 0.466 0.585 0.686 0.797]\n",
            "샘플 임계값별 TRP:[0.033 0.639 0.721 0.754 0.803 0.836 0.885 0.902 0.934 0.967 0.984]\n"
          ]
        }
      ],
      "source": [
        "from sklearn.metrics import roc_curve\n",
        "\n",
        "#레이블 값이 1일때의 예측 확률을 추출 \n",
        "pred_proba_class1 = lr_clf.predict_proba(x_test)[:,1]\n",
        "\n",
        "fprs, tprs, thresholds = roc_curve(y_test, pred_proba_class1)\n",
        "#반환된 임곗값 배열에서 샘플로 데이터를 추출하되, 임계값을 5step으로 추출 \n",
        "#thresholds[0]은 max(예측확률)+1로 임의 설정된다. 이를 제외하기 위해 np.arange는 1부터 시작\n",
        "thr_index =np.arange(1, thresholds.shape[0],5)\n",
        "print(f'샘플 추출을 위한 임곗값 배열의 index:{thr_index}')\n",
        "print(f'샘플 index로 추출한 임곗값:{np.round(thresholds[thr_index],2)}')\n",
        "\n",
        "\n",
        "#5 step 단위로 추출된 임계값에 따른 FPR, TPR 값 \n",
        "print(f'샘플 임계값별 FPR:{np.round(fprs[thr_index],3)}')\n",
        "print(f'샘플 임계값별 TRP:{np.round(tprs[thr_index],3)}')\n"
      ]
    },
    {
      "cell_type": "code",
      "execution_count": 187,
      "metadata": {},
      "outputs": [
        {
          "data": {
            "image/png": "[encoded data removed]",
            "text/plain": [
              "<Figure size 432x288 with 1 Axes>"
            ]
          },
          "metadata": {
            "needs_background": "light"
          },
          "output_type": "display_data"
        }
      ],
      "source": [
        "def roc_curve_plot(y_test, pred_proba_c1):\n",
        "    #임계값에 따른 FPR, TPR 값을 반환 발음. \n",
        "    fprs, tprs, thresholds = roc_curve(y_test, pred_proba_c1)\n",
        "\n",
        "    #ROC Curve를 plot곡선으로 그림\n",
        "    plt.plot(fprs, tprs,label='ROC')\n",
        "    #가운데 대각선 직선을 그림\n",
        "    plt.plot([0.1],[0.1],'k--',label='Random')\n",
        "\n",
        "    #FPR x축의 Scale을 0.1 단위로 변경, X,y 축명 설정 등 \n",
        "    start, end = plt.xlim()\n",
        "    plt.xticks(np.round(np.arange(start, end, 0.1),2))\n",
        "    plt.xlabel('FPR(1 - Sensitivity)');plt.ylabel('TPR(Recall)')\n",
        "    plt.legend()\n",
        "    plt.show()\n",
        "\n",
        "roc_curve_plot(y_test,lr_clf.predict_proba(x_test)[:,1])"
      ]
    },
    {
      "cell_type": "code",
      "execution_count": 188,
      "metadata": {},
      "outputs": [
        {
          "name": "stdout",
          "output_type": "stream",
          "text": [
            "ROC AUC 값 0.9024034454015005\n"
          ]
        }
      ],
      "source": [
        "from sklearn.metrics import roc_auc_score\n",
        "\n",
        "#pred = lr_clf.predic(x_test)\n",
        "#roc_score = roc_auc_score(y_test, pred)\n",
        "\n",
        "pred_proba = lr_clf.predict_proba(x_test)[:,1]\n",
        "roc_score = roc_auc_score(y_test, pred_proba)\n",
        "print(f'ROC AUC 값 {format(roc_score)}')"
      ]
    },
    {
      "cell_type": "code",
      "execution_count": null,
      "metadata": {},
      "outputs": [],
      "source": []
    }
  ],
  "metadata": {
    "colab": {
      "collapsed_sections": [],
      "name": "Day3_titanic_predic.ipynb",
      "provenance": [],
      "toc_visible": true
    },
    "kernelspec": {
      "display_name": "Python 3",
      "name": "python3"
    },
    "language_info": {
      "codemirror_mode": {
        "name": "ipython",
        "version": 3
      },
      "file_extension": ".py",
      "mimetype": "text/x-python",
      "name": "python",
      "nbconvert_exporter": "python",
      "pygments_lexer": "ipython3",
      "version": "3.10.2"
    }
  },
  "nbformat": 4,
  "nbformat_minor": 0
}
