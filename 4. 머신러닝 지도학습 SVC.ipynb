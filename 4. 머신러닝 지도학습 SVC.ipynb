{
 "cells": [
  {
   "cell_type": "markdown",
   "metadata": {},
   "source": [
    "### sklearn.svm.SVC\n",
    "\n",
    "*class* sklearn.svm.SVC(***, *C=1.0*, *kernel='rbf'*, *degree=3*, *gamma='scale'*, *coef0=0.0*, *shrinking=True*, *probability=False*, *tol=0.001*, *cache_size=200*, *class_weight=None*, *verbose=False*, *max_iter=- 1*, *decision_function_shape='ovr'*, *break_ties=False*, *random_state=None*)[[source]](https://github.com/scikit-learn/scikit-learn/blob/baf828ca1/sklearn/svm/_classes.py#L515)[¶](https://scikit-learn.org/stable/modules/generated/sklearn.svm.SVC.html#sklearn.svm.SVC)"
   ]
  },
  {
   "cell_type": "code",
   "execution_count": 1,
   "metadata": {},
   "outputs": [],
   "source": [
    "from sklearn import datasets\n",
    "iris = datasets.load_iris()\n",
    "x = iris.data\n",
    "y = iris.target\n",
    "\n",
    "from sklearn.model_selection import train_test_split\n",
    "x_train,  x_test, y_train, y_test = train_test_split(x,y, test_size=5)"
   ]
  },
  {
   "cell_type": "code",
   "execution_count": 5,
   "metadata": {},
   "outputs": [
    {
     "name": "stdout",
     "output_type": "stream",
     "text": [
      "y_test set : [2 0 1 2 2]\n",
      "정확도 : 1.0\n"
     ]
    }
   ],
   "source": [
    "from sklearn import svm\n",
    "clf = svm.SVC(gamma=0.001, C=100.)\n",
    "clf.fit(x_train,y_train)\n",
    "predictions = clf.predict(x_test)\n",
    "print(f'y_test set : {y_test}')\n",
    "from sklearn.metrics import accuracy_score\n",
    "print(f'정확도 : {accuracy_score(y_test,predictions)}')\n"
   ]
  },
  {
   "cell_type": "markdown",
   "metadata": {},
   "source": [
    "---- "
   ]
  },
  {
   "cell_type": "markdown",
   "metadata": {},
   "source": [
    "### KNN"
   ]
  },
  {
   "cell_type": "code",
   "execution_count": 6,
   "metadata": {},
   "outputs": [
    {
     "name": "stdout",
     "output_type": "stream",
     "text": [
      "['sepal length (cm)', 'sepal width (cm)', 'petal length (cm)', 'petal width (cm)']\n",
      "['setosa' 'versicolor' 'virginica']\n",
      "[5.1 3.5 1.4 0.2]\n",
      "0\n"
     ]
    }
   ],
   "source": [
    "\n",
    "from sklearn.datasets import load_iris \n",
    "iris = load_iris()\n",
    "print(iris.feature_names)\n",
    "print(iris.target_names)\n",
    "print(iris.data[0])\n",
    "print(iris.target[0])"
   ]
  },
  {
   "cell_type": "code",
   "execution_count": 8,
   "metadata": {},
   "outputs": [
    {
     "name": "stdout",
     "output_type": "stream",
     "text": [
      "label 0 = setosa, label 1 = versicolor, label 2 =virginica\n",
      "Example 0 : label:0, features : [5.1 3.5 1.4 0.2]\n",
      "Example 1 : label:0, features : [4.9 3.  1.4 0.2]\n",
      "Example 2 : label:0, features : [4.7 3.2 1.3 0.2]\n",
      "Example 3 : label:0, features : [4.6 3.1 1.5 0.2]\n",
      "Example 4 : label:0, features : [5.  3.6 1.4 0.2]\n",
      "Example 5 : label:0, features : [5.4 3.9 1.7 0.4]\n",
      "Example 6 : label:0, features : [4.6 3.4 1.4 0.3]\n",
      "Example 7 : label:0, features : [5.  3.4 1.5 0.2]\n",
      "Example 8 : label:0, features : [4.4 2.9 1.4 0.2]\n",
      "Example 9 : label:0, features : [4.9 3.1 1.5 0.1]\n",
      "Example 10 : label:0, features : [5.4 3.7 1.5 0.2]\n",
      "Example 11 : label:0, features : [4.8 3.4 1.6 0.2]\n",
      "Example 12 : label:0, features : [4.8 3.  1.4 0.1]\n",
      "Example 13 : label:0, features : [4.3 3.  1.1 0.1]\n",
      "Example 14 : label:0, features : [5.8 4.  1.2 0.2]\n",
      "Example 15 : label:0, features : [5.7 4.4 1.5 0.4]\n",
      "Example 16 : label:0, features : [5.4 3.9 1.3 0.4]\n",
      "Example 17 : label:0, features : [5.1 3.5 1.4 0.3]\n",
      "Example 18 : label:0, features : [5.7 3.8 1.7 0.3]\n",
      "Example 19 : label:0, features : [5.1 3.8 1.5 0.3]\n",
      "Example 20 : label:0, features : [5.4 3.4 1.7 0.2]\n",
      "Example 21 : label:0, features : [5.1 3.7 1.5 0.4]\n",
      "Example 22 : label:0, features : [4.6 3.6 1.  0.2]\n",
      "Example 23 : label:0, features : [5.1 3.3 1.7 0.5]\n",
      "Example 24 : label:0, features : [4.8 3.4 1.9 0.2]\n",
      "Example 25 : label:0, features : [5.  3.  1.6 0.2]\n",
      "Example 26 : label:0, features : [5.  3.4 1.6 0.4]\n",
      "Example 27 : label:0, features : [5.2 3.5 1.5 0.2]\n",
      "Example 28 : label:0, features : [5.2 3.4 1.4 0.2]\n",
      "Example 29 : label:0, features : [4.7 3.2 1.6 0.2]\n",
      "Example 30 : label:0, features : [4.8 3.1 1.6 0.2]\n",
      "Example 31 : label:0, features : [5.4 3.4 1.5 0.4]\n",
      "Example 32 : label:0, features : [5.2 4.1 1.5 0.1]\n",
      "Example 33 : label:0, features : [5.5 4.2 1.4 0.2]\n",
      "Example 34 : label:0, features : [4.9 3.1 1.5 0.2]\n",
      "Example 35 : label:0, features : [5.  3.2 1.2 0.2]\n",
      "Example 36 : label:0, features : [5.5 3.5 1.3 0.2]\n",
      "Example 37 : label:0, features : [4.9 3.6 1.4 0.1]\n",
      "Example 38 : label:0, features : [4.4 3.  1.3 0.2]\n",
      "Example 39 : label:0, features : [5.1 3.4 1.5 0.2]\n",
      "Example 40 : label:0, features : [5.  3.5 1.3 0.3]\n",
      "Example 41 : label:0, features : [4.5 2.3 1.3 0.3]\n",
      "Example 42 : label:0, features : [4.4 3.2 1.3 0.2]\n",
      "Example 43 : label:0, features : [5.  3.5 1.6 0.6]\n",
      "Example 44 : label:0, features : [5.1 3.8 1.9 0.4]\n",
      "Example 45 : label:0, features : [4.8 3.  1.4 0.3]\n",
      "Example 46 : label:0, features : [5.1 3.8 1.6 0.2]\n",
      "Example 47 : label:0, features : [4.6 3.2 1.4 0.2]\n",
      "Example 48 : label:0, features : [5.3 3.7 1.5 0.2]\n",
      "Example 49 : label:0, features : [5.  3.3 1.4 0.2]\n",
      "Example 50 : label:1, features : [7.  3.2 4.7 1.4]\n",
      "Example 51 : label:1, features : [6.4 3.2 4.5 1.5]\n",
      "Example 52 : label:1, features : [6.9 3.1 4.9 1.5]\n",
      "Example 53 : label:1, features : [5.5 2.3 4.  1.3]\n",
      "Example 54 : label:1, features : [6.5 2.8 4.6 1.5]\n",
      "Example 55 : label:1, features : [5.7 2.8 4.5 1.3]\n",
      "Example 56 : label:1, features : [6.3 3.3 4.7 1.6]\n",
      "Example 57 : label:1, features : [4.9 2.4 3.3 1. ]\n",
      "Example 58 : label:1, features : [6.6 2.9 4.6 1.3]\n",
      "Example 59 : label:1, features : [5.2 2.7 3.9 1.4]\n",
      "Example 60 : label:1, features : [5.  2.  3.5 1. ]\n",
      "Example 61 : label:1, features : [5.9 3.  4.2 1.5]\n",
      "Example 62 : label:1, features : [6.  2.2 4.  1. ]\n",
      "Example 63 : label:1, features : [6.1 2.9 4.7 1.4]\n",
      "Example 64 : label:1, features : [5.6 2.9 3.6 1.3]\n",
      "Example 65 : label:1, features : [6.7 3.1 4.4 1.4]\n",
      "Example 66 : label:1, features : [5.6 3.  4.5 1.5]\n",
      "Example 67 : label:1, features : [5.8 2.7 4.1 1. ]\n",
      "Example 68 : label:1, features : [6.2 2.2 4.5 1.5]\n",
      "Example 69 : label:1, features : [5.6 2.5 3.9 1.1]\n",
      "Example 70 : label:1, features : [5.9 3.2 4.8 1.8]\n",
      "Example 71 : label:1, features : [6.1 2.8 4.  1.3]\n",
      "Example 72 : label:1, features : [6.3 2.5 4.9 1.5]\n",
      "Example 73 : label:1, features : [6.1 2.8 4.7 1.2]\n",
      "Example 74 : label:1, features : [6.4 2.9 4.3 1.3]\n",
      "Example 75 : label:1, features : [6.6 3.  4.4 1.4]\n",
      "Example 76 : label:1, features : [6.8 2.8 4.8 1.4]\n",
      "Example 77 : label:1, features : [6.7 3.  5.  1.7]\n",
      "Example 78 : label:1, features : [6.  2.9 4.5 1.5]\n",
      "Example 79 : label:1, features : [5.7 2.6 3.5 1. ]\n",
      "Example 80 : label:1, features : [5.5 2.4 3.8 1.1]\n",
      "Example 81 : label:1, features : [5.5 2.4 3.7 1. ]\n",
      "Example 82 : label:1, features : [5.8 2.7 3.9 1.2]\n",
      "Example 83 : label:1, features : [6.  2.7 5.1 1.6]\n",
      "Example 84 : label:1, features : [5.4 3.  4.5 1.5]\n",
      "Example 85 : label:1, features : [6.  3.4 4.5 1.6]\n",
      "Example 86 : label:1, features : [6.7 3.1 4.7 1.5]\n",
      "Example 87 : label:1, features : [6.3 2.3 4.4 1.3]\n",
      "Example 88 : label:1, features : [5.6 3.  4.1 1.3]\n",
      "Example 89 : label:1, features : [5.5 2.5 4.  1.3]\n",
      "Example 90 : label:1, features : [5.5 2.6 4.4 1.2]\n",
      "Example 91 : label:1, features : [6.1 3.  4.6 1.4]\n",
      "Example 92 : label:1, features : [5.8 2.6 4.  1.2]\n",
      "Example 93 : label:1, features : [5.  2.3 3.3 1. ]\n",
      "Example 94 : label:1, features : [5.6 2.7 4.2 1.3]\n",
      "Example 95 : label:1, features : [5.7 3.  4.2 1.2]\n",
      "Example 96 : label:1, features : [5.7 2.9 4.2 1.3]\n",
      "Example 97 : label:1, features : [6.2 2.9 4.3 1.3]\n",
      "Example 98 : label:1, features : [5.1 2.5 3.  1.1]\n",
      "Example 99 : label:1, features : [5.7 2.8 4.1 1.3]\n",
      "Example 100 : label:2, features : [6.3 3.3 6.  2.5]\n",
      "Example 101 : label:2, features : [5.8 2.7 5.1 1.9]\n",
      "Example 102 : label:2, features : [7.1 3.  5.9 2.1]\n",
      "Example 103 : label:2, features : [6.3 2.9 5.6 1.8]\n",
      "Example 104 : label:2, features : [6.5 3.  5.8 2.2]\n",
      "Example 105 : label:2, features : [7.6 3.  6.6 2.1]\n",
      "Example 106 : label:2, features : [4.9 2.5 4.5 1.7]\n",
      "Example 107 : label:2, features : [7.3 2.9 6.3 1.8]\n",
      "Example 108 : label:2, features : [6.7 2.5 5.8 1.8]\n",
      "Example 109 : label:2, features : [7.2 3.6 6.1 2.5]\n",
      "Example 110 : label:2, features : [6.5 3.2 5.1 2. ]\n",
      "Example 111 : label:2, features : [6.4 2.7 5.3 1.9]\n",
      "Example 112 : label:2, features : [6.8 3.  5.5 2.1]\n",
      "Example 113 : label:2, features : [5.7 2.5 5.  2. ]\n",
      "Example 114 : label:2, features : [5.8 2.8 5.1 2.4]\n",
      "Example 115 : label:2, features : [6.4 3.2 5.3 2.3]\n",
      "Example 116 : label:2, features : [6.5 3.  5.5 1.8]\n",
      "Example 117 : label:2, features : [7.7 3.8 6.7 2.2]\n",
      "Example 118 : label:2, features : [7.7 2.6 6.9 2.3]\n",
      "Example 119 : label:2, features : [6.  2.2 5.  1.5]\n",
      "Example 120 : label:2, features : [6.9 3.2 5.7 2.3]\n",
      "Example 121 : label:2, features : [5.6 2.8 4.9 2. ]\n",
      "Example 122 : label:2, features : [7.7 2.8 6.7 2. ]\n",
      "Example 123 : label:2, features : [6.3 2.7 4.9 1.8]\n",
      "Example 124 : label:2, features : [6.7 3.3 5.7 2.1]\n",
      "Example 125 : label:2, features : [7.2 3.2 6.  1.8]\n",
      "Example 126 : label:2, features : [6.2 2.8 4.8 1.8]\n",
      "Example 127 : label:2, features : [6.1 3.  4.9 1.8]\n",
      "Example 128 : label:2, features : [6.4 2.8 5.6 2.1]\n",
      "Example 129 : label:2, features : [7.2 3.  5.8 1.6]\n",
      "Example 130 : label:2, features : [7.4 2.8 6.1 1.9]\n",
      "Example 131 : label:2, features : [7.9 3.8 6.4 2. ]\n",
      "Example 132 : label:2, features : [6.4 2.8 5.6 2.2]\n",
      "Example 133 : label:2, features : [6.3 2.8 5.1 1.5]\n",
      "Example 134 : label:2, features : [6.1 2.6 5.6 1.4]\n",
      "Example 135 : label:2, features : [7.7 3.  6.1 2.3]\n",
      "Example 136 : label:2, features : [6.3 3.4 5.6 2.4]\n",
      "Example 137 : label:2, features : [6.4 3.1 5.5 1.8]\n",
      "Example 138 : label:2, features : [6.  3.  4.8 1.8]\n",
      "Example 139 : label:2, features : [6.9 3.1 5.4 2.1]\n",
      "Example 140 : label:2, features : [6.7 3.1 5.6 2.4]\n",
      "Example 141 : label:2, features : [6.9 3.1 5.1 2.3]\n",
      "Example 142 : label:2, features : [5.8 2.7 5.1 1.9]\n",
      "Example 143 : label:2, features : [6.8 3.2 5.9 2.3]\n",
      "Example 144 : label:2, features : [6.7 3.3 5.7 2.5]\n",
      "Example 145 : label:2, features : [6.7 3.  5.2 2.3]\n",
      "Example 146 : label:2, features : [6.3 2.5 5.  1.9]\n",
      "Example 147 : label:2, features : [6.5 3.  5.2 2. ]\n",
      "Example 148 : label:2, features : [6.2 3.4 5.4 2.3]\n",
      "Example 149 : label:2, features : [5.9 3.  5.1 1.8]\n"
     ]
    }
   ],
   "source": [
    "from sklearn.datasets import load_iris \n",
    "iris = load_iris()\n",
    "\n",
    "print(f'label 0 = setosa, label 1 = versicolor, label 2 =virginica')\n",
    "for i in range(len(iris.target)):\n",
    "    print(f\"Example {i} : label:{iris.target[i]}, features : {iris.data[i]}\")"
   ]
  },
  {
   "cell_type": "code",
   "execution_count": 10,
   "metadata": {},
   "outputs": [
    {
     "data": {
      "text/plain": [
       "<matplotlib.legend.Legend at 0x20fe8547970>"
      ]
     },
     "execution_count": 10,
     "metadata": {},
     "output_type": "execute_result"
    },
    {
     "data": {
      "image/png": "[encoded data removed]",
      "text/plain": [
       "<Figure size 432x288 with 1 Axes>"
      ]
     },
     "metadata": {
      "needs_background": "light"
     },
     "output_type": "display_data"
    }
   ],
   "source": [
    "from sklearn.datasets import load_iris\n",
    "import matplotlib.pyplot as plt\n",
    "iris = load_iris()\n",
    "sepal = iris.data[:,0:2]\n",
    "kind = iris.target \n",
    "\n",
    "plt.xlabel('sepal length')\n",
    "plt.ylabel('sepal width')\n",
    "plt.plot (sepal[kind == 0][:,0], sepal[kind ==0][:,1],\"ro\",label='Setosa')\n",
    "plt.plot (sepal[kind == 1][:,0], sepal[kind ==1][:,1],\"bo\",label='Versicolor')\n",
    "plt.plot (sepal[kind == 2][:,0], sepal[kind ==2][:,1],\"yo\",label='Virginica')\n",
    "\n",
    "plt.legend()"
   ]
  },
  {
   "cell_type": "code",
   "execution_count": 11,
   "metadata": {},
   "outputs": [
    {
     "name": "stdout",
     "output_type": "stream",
     "text": [
      "(120, 4)\n",
      "(30, 4)\n"
     ]
    }
   ],
   "source": [
    "from sklearn.datasets import load_iris  \n",
    "iris = load_iris()\n",
    "#print(iris.data)\n",
    "from sklearn.model_selection import train_test_split  \n",
    "X = iris.data\n",
    "y = iris.target\n",
    "\n",
    "# (80:20)으로 분할한다.\n",
    "X_train,X_test,y_train,y_test = train_test_split(X,y,test_size=0.2,random_state=4)\n",
    "print(X_train.shape)\n",
    "print(X_test.shape)\n",
    "\n"
   ]
  },
  {
   "cell_type": "code",
   "execution_count": 15,
   "metadata": {},
   "outputs": [
    {
     "data": {
      "text/plain": [
       "0.9666666666666667"
      ]
     },
     "execution_count": 15,
     "metadata": {},
     "output_type": "execute_result"
    }
   ],
   "source": [
    "from sklearn.neighbors import KNeighborsClassifier  \n",
    "from sklearn import metrics\n",
    "\n",
    "knn = KNeighborsClassifier(n_neighbors=6)  \n",
    "knn.fit(X_train, y_train)\n",
    "\n",
    "y_pred = knn.predict(X_test)\n",
    "scores = metrics.accuracy_score(y_test, y_pred)\n",
    "scores\n"
   ]
  },
  {
   "cell_type": "code",
   "execution_count": 17,
   "metadata": {},
   "outputs": [
    {
     "name": "stdout",
     "output_type": "stream",
     "text": [
      "versicolor\n",
      "setosa\n"
     ]
    }
   ],
   "source": [
    "knn = KNeighborsClassifier(n_neighbors=5)  \n",
    "knn.fit(X, y)\n",
    "\n",
    "#0 = setosa, 1=versicolor, 2=virginica\n",
    "classes = {0:'setosa',1:'versicolor',2:'virginica'}\n",
    "\n",
    "# 아직 보지 못한 새로운 데이터를 제시해보자.  \n",
    "x_new = [[3,4,5,2],[5,4,2,2]]\n",
    "y_predict = knn.predict(x_new)\n",
    "\n",
    "print(classes[y_predict[0]])  \n",
    "print(classes[y_predict[1]])\n"
   ]
  },
  {
   "cell_type": "markdown",
   "metadata": {},
   "source": [
    "--------"
   ]
  },
  {
   "cell_type": "code",
   "execution_count": 18,
   "metadata": {},
   "outputs": [
    {
     "data": {
      "text/plain": [
       "0.8181818181818182"
      ]
     },
     "execution_count": 18,
     "metadata": {},
     "output_type": "execute_result"
    }
   ],
   "source": [
    "from sklearn.datasets import make_regression,make_classification\n",
    "\n",
    "from sklearn.metrics import accuracy_score\n",
    "from sklearn.model_selection import train_test_split\n",
    "\n",
    "from sklearn.pipeline import Pipeline\n",
    "from sklearn.preprocessing import StandardScaler\n",
    "from sklearn.linear_model import LogisticRegression\n",
    "\n",
    "#make classification이라는 데이터를 하나 만듦\n",
    "X, y = make_classification(n_samples=100,n_features=10,n_informative=2)\n",
    "\n",
    "X_train, X_test, y_train, y_test = train_test_split( X, y, test_size=0.33, random_state=42)\n",
    "\n",
    "X_train.shape, X_test.shape, y_train.shape, y_test.shape\n",
    "\n",
    "# it takes a list of tuples as parameter\n",
    "pipeline = Pipeline([\n",
    "    ('scaler',StandardScaler()),\n",
    "    ('clf', LogisticRegression())\n",
    "\t])\n",
    "\n",
    "# use the pipeline object as you would\n",
    "# a regular classifier\n",
    "pipeline.fit(X_train,y_train)\n",
    "\n",
    "\n",
    "y_preds = pipeline.predict(X_test)\n",
    "\n",
    "accuracy_score(y_test,y_preds)"
   ]
  },
  {
   "cell_type": "code",
   "execution_count": null,
   "metadata": {},
   "outputs": [],
   "source": [
    "from sklearn.datasets import make_regression,make_classification\n",
    "\n",
    "from sklearn.metrics import accuracy_score\n",
    "from sklearn.model_selection import train_test_split\n",
    "\n",
    "from sklearn.pipeline import Pipeline\n",
    "from sklearn.preprocessing import StandardScaler\n",
    "from sklearn.linear_model import LogisticRegression\n",
    "\n",
    "#make classification이라는 데이터를 하나 만듦\n",
    "# 함수 만들어서 넣어도 상관없다 \n",
    "X, y = make_classification(n_samples=100,n_features=10,n_informative=2)\n",
    "\n",
    "X_train, X_test, y_train, y_test = train_test_split( X, y, test_size=0.33, random_state=42)\n",
    "\n",
    "X_train.shape, X_test.shape, y_train.shape, y_test.shape\n",
    "\n",
    "# it takes a list of tuples as parameter\n",
    "pipeline = Pipeline([\n",
    "    ('scaler',StandardScaler()),\n",
    "    ('clf', LogisticRegression())\n",
    "\t])\n",
    "\n",
    "# use the pipeline object as you would\n",
    "# a regular classifier\n",
    "pipeline.fit(X_train,y_train)\n",
    "\n",
    "\n",
    "y_preds = pipeline.predict(X_test)\n",
    "\n",
    "accuracy_score(y_test,y_preds)"
   ]
  },
  {
   "cell_type": "markdown",
   "metadata": {},
   "source": [
    "타이타닉할때 드랍시켜서 \n",
    "숫자로 라벨인코더 했다. \n",
    "그리고 3가지를 나열한 다음에 \n",
    "파이프로 연결시켜보자 \n",
    "\n"
   ]
  },
  {
   "cell_type": "code",
   "execution_count": 25,
   "metadata": {},
   "outputs": [],
   "source": [
    "from sklearn import preprocessing \n",
    "\n",
    "def encode_features(dataDF):\n",
    "  features = ['Cabin', 'Sex', 'Embarked']\n",
    "  for feature in features:\n",
    "    le = preprocessing.LabelEncoder()\n",
    "    le = le.fit(dataDF[feature])\n",
    "    dataDF[feature] = le.transform(dataDF[feature])\n",
    "    \n",
    "  return dataDF"
   ]
  },
  {
   "cell_type": "code",
   "execution_count": 26,
   "metadata": {},
   "outputs": [
    {
     "ename": "ValueError",
     "evalue": "The truth value of a DataFrame is ambiguous. Use a.empty, a.bool(), a.item(), a.any() or a.all().",
     "output_type": "error",
     "traceback": [
      "\u001b[1;31m---------------------------------------------------------------------------\u001b[0m",
      "\u001b[1;31mValueError\u001b[0m                                Traceback (most recent call last)",
      "\u001b[1;32mc:\\apps\\ml\\Day5_SVC.ipynb Cell 17'\u001b[0m in \u001b[0;36m<module>\u001b[1;34m\u001b[0m\n\u001b[0;32m     <a href='vscode-notebook-cell:/c%3A/apps/ml/Day5_SVC.ipynb#ch0000016?line=20'>21</a>\u001b[0m X_train\u001b[39m.\u001b[39mshape, X_test\u001b[39m.\u001b[39mshape, y_train\u001b[39m.\u001b[39mshape, y_test\u001b[39m.\u001b[39mshape\n\u001b[0;32m     <a href='vscode-notebook-cell:/c%3A/apps/ml/Day5_SVC.ipynb#ch0000016?line=21'>22</a>\u001b[0m \u001b[39m#차원을 이야기하는건데 140,3이면 140개의 3개가 있다는건데 한 피쳐당 140개가 있다는 거고. \u001b[39;00m\n\u001b[0;32m     <a href='vscode-notebook-cell:/c%3A/apps/ml/Day5_SVC.ipynb#ch0000016?line=22'>23</a>\u001b[0m \u001b[39m# 5,6,4 이면 5행 4행렬이 3개니까 3차원 \u001b[39;00m\n\u001b[0;32m     <a href='vscode-notebook-cell:/c%3A/apps/ml/Day5_SVC.ipynb#ch0000016?line=23'>24</a>\u001b[0m \u001b[39m# 5,4,100 이면 3차원 \u001b[39;00m\n\u001b[1;32m   (...)\u001b[0m\n\u001b[0;32m     <a href='vscode-notebook-cell:/c%3A/apps/ml/Day5_SVC.ipynb#ch0000016?line=28'>29</a>\u001b[0m \n\u001b[0;32m     <a href='vscode-notebook-cell:/c%3A/apps/ml/Day5_SVC.ipynb#ch0000016?line=29'>30</a>\u001b[0m \u001b[39m# it takes a list of tuples as parameter\u001b[39;00m\n\u001b[1;32m---> <a href='vscode-notebook-cell:/c%3A/apps/ml/Day5_SVC.ipynb#ch0000016?line=30'>31</a>\u001b[0m pipeline \u001b[39m=\u001b[39m Pipeline([\n\u001b[0;32m     <a href='vscode-notebook-cell:/c%3A/apps/ml/Day5_SVC.ipynb#ch0000016?line=31'>32</a>\u001b[0m     (\u001b[39m'\u001b[39;49m\u001b[39mencode\u001b[39;49m\u001b[39m'\u001b[39;49m,encode_features(titanic_df)),\n\u001b[0;32m     <a href='vscode-notebook-cell:/c%3A/apps/ml/Day5_SVC.ipynb#ch0000016?line=32'>33</a>\u001b[0m     (\u001b[39m'\u001b[39;49m\u001b[39mclf\u001b[39;49m\u001b[39m'\u001b[39;49m, LogisticRegression())\n\u001b[0;32m     <a href='vscode-notebook-cell:/c%3A/apps/ml/Day5_SVC.ipynb#ch0000016?line=33'>34</a>\u001b[0m \t])\n\u001b[0;32m     <a href='vscode-notebook-cell:/c%3A/apps/ml/Day5_SVC.ipynb#ch0000016?line=35'>36</a>\u001b[0m \u001b[39m# use the pipeline object as you would\u001b[39;00m\n\u001b[0;32m     <a href='vscode-notebook-cell:/c%3A/apps/ml/Day5_SVC.ipynb#ch0000016?line=36'>37</a>\u001b[0m \u001b[39m# a regular classifier\u001b[39;00m\n\u001b[0;32m     <a href='vscode-notebook-cell:/c%3A/apps/ml/Day5_SVC.ipynb#ch0000016?line=37'>38</a>\u001b[0m pipeline\u001b[39m.\u001b[39mfit(X_train,y_train)\n",
      "File \u001b[1;32m~\\AppData\\Local\\Programs\\Python\\Python310\\lib\\site-packages\\sklearn\\pipeline.py:148\u001b[0m, in \u001b[0;36mPipeline.__init__\u001b[1;34m(self, steps, memory, verbose)\u001b[0m\n\u001b[0;32m    <a href='file:///c%3A/Users/JIHYUN/AppData/Local/Programs/Python/Python310/lib/site-packages/sklearn/pipeline.py?line=145'>146</a>\u001b[0m \u001b[39mself\u001b[39m\u001b[39m.\u001b[39mmemory \u001b[39m=\u001b[39m memory\n\u001b[0;32m    <a href='file:///c%3A/Users/JIHYUN/AppData/Local/Programs/Python/Python310/lib/site-packages/sklearn/pipeline.py?line=146'>147</a>\u001b[0m \u001b[39mself\u001b[39m\u001b[39m.\u001b[39mverbose \u001b[39m=\u001b[39m verbose\n\u001b[1;32m--> <a href='file:///c%3A/Users/JIHYUN/AppData/Local/Programs/Python/Python310/lib/site-packages/sklearn/pipeline.py?line=147'>148</a>\u001b[0m \u001b[39mself\u001b[39;49m\u001b[39m.\u001b[39;49m_validate_steps()\n",
      "File \u001b[1;32m~\\AppData\\Local\\Programs\\Python\\Python310\\lib\\site-packages\\sklearn\\pipeline.py:202\u001b[0m, in \u001b[0;36mPipeline._validate_steps\u001b[1;34m(self)\u001b[0m\n\u001b[0;32m    <a href='file:///c%3A/Users/JIHYUN/AppData/Local/Programs/Python/Python310/lib/site-packages/sklearn/pipeline.py?line=198'>199</a>\u001b[0m estimator \u001b[39m=\u001b[39m estimators[\u001b[39m-\u001b[39m\u001b[39m1\u001b[39m]\n\u001b[0;32m    <a href='file:///c%3A/Users/JIHYUN/AppData/Local/Programs/Python/Python310/lib/site-packages/sklearn/pipeline.py?line=200'>201</a>\u001b[0m \u001b[39mfor\u001b[39;00m t \u001b[39min\u001b[39;00m transformers:\n\u001b[1;32m--> <a href='file:///c%3A/Users/JIHYUN/AppData/Local/Programs/Python/Python310/lib/site-packages/sklearn/pipeline.py?line=201'>202</a>\u001b[0m     \u001b[39mif\u001b[39;00m t \u001b[39mis\u001b[39;00m \u001b[39mNone\u001b[39;00m \u001b[39mor\u001b[39;00m t \u001b[39m==\u001b[39;49m \u001b[39m\"\u001b[39;49m\u001b[39mpassthrough\u001b[39;49m\u001b[39m\"\u001b[39;49m:\n\u001b[0;32m    <a href='file:///c%3A/Users/JIHYUN/AppData/Local/Programs/Python/Python310/lib/site-packages/sklearn/pipeline.py?line=202'>203</a>\u001b[0m         \u001b[39mcontinue\u001b[39;00m\n\u001b[0;32m    <a href='file:///c%3A/Users/JIHYUN/AppData/Local/Programs/Python/Python310/lib/site-packages/sklearn/pipeline.py?line=203'>204</a>\u001b[0m     \u001b[39mif\u001b[39;00m \u001b[39mnot\u001b[39;00m (\u001b[39mhasattr\u001b[39m(t, \u001b[39m\"\u001b[39m\u001b[39mfit\u001b[39m\u001b[39m\"\u001b[39m) \u001b[39mor\u001b[39;00m \u001b[39mhasattr\u001b[39m(t, \u001b[39m\"\u001b[39m\u001b[39mfit_transform\u001b[39m\u001b[39m\"\u001b[39m)) \u001b[39mor\u001b[39;00m \u001b[39mnot\u001b[39;00m \u001b[39mhasattr\u001b[39m(\n\u001b[0;32m    <a href='file:///c%3A/Users/JIHYUN/AppData/Local/Programs/Python/Python310/lib/site-packages/sklearn/pipeline.py?line=204'>205</a>\u001b[0m         t, \u001b[39m\"\u001b[39m\u001b[39mtransform\u001b[39m\u001b[39m\"\u001b[39m\n\u001b[0;32m    <a href='file:///c%3A/Users/JIHYUN/AppData/Local/Programs/Python/Python310/lib/site-packages/sklearn/pipeline.py?line=205'>206</a>\u001b[0m     ):\n",
      "File \u001b[1;32m~\\AppData\\Local\\Programs\\Python\\Python310\\lib\\site-packages\\pandas\\core\\generic.py:1535\u001b[0m, in \u001b[0;36mNDFrame.__nonzero__\u001b[1;34m(self)\u001b[0m\n\u001b[0;32m   <a href='file:///c%3A/Users/JIHYUN/AppData/Local/Programs/Python/Python310/lib/site-packages/pandas/core/generic.py?line=1532'>1533</a>\u001b[0m \u001b[39m@final\u001b[39m\n\u001b[0;32m   <a href='file:///c%3A/Users/JIHYUN/AppData/Local/Programs/Python/Python310/lib/site-packages/pandas/core/generic.py?line=1533'>1534</a>\u001b[0m \u001b[39mdef\u001b[39;00m \u001b[39m__nonzero__\u001b[39m(\u001b[39mself\u001b[39m):\n\u001b[1;32m-> <a href='file:///c%3A/Users/JIHYUN/AppData/Local/Programs/Python/Python310/lib/site-packages/pandas/core/generic.py?line=1534'>1535</a>\u001b[0m     \u001b[39mraise\u001b[39;00m \u001b[39mValueError\u001b[39;00m(\n\u001b[0;32m   <a href='file:///c%3A/Users/JIHYUN/AppData/Local/Programs/Python/Python310/lib/site-packages/pandas/core/generic.py?line=1535'>1536</a>\u001b[0m         \u001b[39mf\u001b[39m\u001b[39m\"\u001b[39m\u001b[39mThe truth value of a \u001b[39m\u001b[39m{\u001b[39;00m\u001b[39mtype\u001b[39m(\u001b[39mself\u001b[39m)\u001b[39m.\u001b[39m\u001b[39m__name__\u001b[39m\u001b[39m}\u001b[39;00m\u001b[39m is ambiguous. \u001b[39m\u001b[39m\"\u001b[39m\n\u001b[0;32m   <a href='file:///c%3A/Users/JIHYUN/AppData/Local/Programs/Python/Python310/lib/site-packages/pandas/core/generic.py?line=1536'>1537</a>\u001b[0m         \u001b[39m\"\u001b[39m\u001b[39mUse a.empty, a.bool(), a.item(), a.any() or a.all().\u001b[39m\u001b[39m\"\u001b[39m\n\u001b[0;32m   <a href='file:///c%3A/Users/JIHYUN/AppData/Local/Programs/Python/Python310/lib/site-packages/pandas/core/generic.py?line=1537'>1538</a>\u001b[0m     )\n",
      "\u001b[1;31mValueError\u001b[0m: The truth value of a DataFrame is ambiguous. Use a.empty, a.bool(), a.item(), a.any() or a.all()."
     ]
    }
   ],
   "source": [
    "from sklearn.datasets import make_regression,make_classification\n",
    "\n",
    "from sklearn.metrics import accuracy_score\n",
    "from sklearn.model_selection import train_test_split\n",
    "\n",
    "from sklearn.pipeline import Pipeline\n",
    "from sklearn.preprocessing import StandardScaler\n",
    "from sklearn.linear_model import LogisticRegression\n",
    "import pandas as pd\n",
    "\n",
    "#make classification이라는 데이터를 하나 만듦\n",
    "# 함수 만들어서 넣어도 상관없다 \n",
    "# X, y = make_classification(n_samples=100,n_features=10,n_informative=2)\n",
    "\n",
    "titanic_df = pd.read_csv('./dataset/titanic_train.csv')\n",
    "\n",
    "y_titanic_df = titanic_df['Survived'] #레이블 값 만들어 Y값 데이터로 저장 \n",
    "x_titanic_df = titanic_df.drop(['Survived'],axis=1) #레이블값을 제외한 인풋값 저장 \n",
    "x_train,x_test,y_train,y_test = train_test_split(x_titanic_df,y_titanic_df, test_size=0.2,random_state= 42)\n",
    "\n",
    "X_train.shape, X_test.shape, y_train.shape, y_test.shape\n",
    "#차원을 이야기하는건데 140,3이면 140개의 3개가 있다는건데 한 피쳐당 140개가 있다는 거고. \n",
    "# 5,6,4 이면 5행 4행렬이 3개니까 3차원 \n",
    "# 5,4,100 이면 3차원 \n",
    "# 그래서 갯수 세보려고 확인해보려고 찍는 것 이게 몇차원행렬인지 \n",
    "# 140\n",
    "#벡터는 어레이로 연산해야한다. 리스트로 연산하면 안된다. \n",
    "\n",
    "\n",
    "# it takes a list of tuples as parameter\n",
    "pipeline = Pipeline([\n",
    "    ('encode',encode_features(titanic_df)),\n",
    "    ('clf', LogisticRegression())\n",
    "\t])\n",
    "\n",
    "# use the pipeline object as you would\n",
    "# a regular classifier\n",
    "pipeline.fit(X_train,y_train)\n",
    "\n",
    "\n",
    "y_preds = pipeline.predict(X_test)\n",
    "\n",
    "accuracy_score(y_test,y_preds)"
   ]
  },
  {
   "cell_type": "code",
   "execution_count": 20,
   "metadata": {},
   "outputs": [],
   "source": [
    "#판다스 데이터 프레임 파이프라인으로 전처리 하기 "
   ]
  },
  {
   "cell_type": "markdown",
   "metadata": {},
   "source": []
  }
 ],
 "metadata": {
  "interpreter": {
   "hash": "6d9aeff0c4cb62f006bcee5d924029c89375552da6e18543b57335e832e7bb6d"
  },
  "kernelspec": {
   "display_name": "Python 3.10.2 64-bit",
   "language": "python",
   "name": "python3"
  },
  "language_info": {
   "codemirror_mode": {
    "name": "ipython",
    "version": 3
   },
   "file_extension": ".py",
   "mimetype": "text/x-python",
   "name": "python",
   "nbconvert_exporter": "python",
   "pygments_lexer": "ipython3",
   "version": "3.10.2"
  },
  "orig_nbformat": 4
 },
 "nbformat": 4,
 "nbformat_minor": 2
}
